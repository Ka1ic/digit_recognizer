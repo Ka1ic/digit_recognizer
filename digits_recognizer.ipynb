{
 "cells": [
  {
   "cell_type": "markdown",
   "id": "49da3ace-87f0-42b1-b3ae-ce4ee2458c27",
   "metadata": {},
   "source": [
    "# 0.Part: import libraries"
   ]
  },
  {
   "cell_type": "code",
   "execution_count": 226,
   "id": "381c5212-f73d-44cc-8fb3-45e1eec65cb1",
   "metadata": {},
   "outputs": [],
   "source": [
    "import numpy as np\n",
    "import pandas as pd\n",
    "from tkinter import *\n",
    "import tkinter.ttk"
   ]
  },
  {
   "cell_type": "markdown",
   "id": "c6544ca6-3aa3-4291-8086-14ba1021f132",
   "metadata": {},
   "source": [
    "# 1.Part of the data load"
   ]
  },
  {
   "cell_type": "code",
   "execution_count": 229,
   "id": "ad676bc0-0b37-4400-8f3c-81f514c07e7d",
   "metadata": {},
   "outputs": [],
   "source": [
    "train = pd.read_csv('mnist_train.csv')\n",
    "test = pd.read_csv('mnist_test.csv')"
   ]
  },
  {
   "cell_type": "markdown",
   "id": "bae3ae12-e5fb-455a-b13f-10f8bf6a1825",
   "metadata": {},
   "source": [
    "prepeart data to work"
   ]
  },
  {
   "cell_type": "code",
   "execution_count": 231,
   "id": "ddd50e6d-f629-40c4-a568-4c959d79c3d9",
   "metadata": {},
   "outputs": [],
   "source": [
    "Y_train = train['label'].values\n",
    "X_train = train.drop(labels=['label'], axis=1)\n",
    "X_train = X_train / 255.0\n",
    "X_train = X_train.values\n",
    "\n",
    "Y_test = test['label'].values\n",
    "X_test = test.drop(labels=['label'], axis=1)\n",
    "X_test = X_test / 255.0\n",
    "X_test = X_test.values\n",
    "\n",
    "# a convenient type of response\n",
    "Y_acum = np.zeros((len(X_train), 10))\n",
    "for i, l in enumerate(Y_train):\n",
    "    Y_acum[i][l] = 1\n",
    "Y_train = Y_acum\n",
    "\n",
    "Y_acum = np.zeros((len(X_test), 10))\n",
    "for i, l in enumerate(Y_test):\n",
    "    Y_acum[i][l] = 1\n",
    "Y_test = Y_acum"
   ]
  },
  {
   "cell_type": "markdown",
   "id": "6175ee73-952c-4a7c-8fdc-3ab44fcc9c67",
   "metadata": {},
   "source": [
    "# 2.Part of creating and training a model"
   ]
  },
  {
   "cell_type": "markdown",
   "id": "ad364af7-9b7d-41a7-88a7-e887614cf6f5",
   "metadata": {},
   "source": [
    "I use perceptron model with 3 layers for this task"
   ]
  },
  {
   "cell_type": "markdown",
   "id": "48f0cee8-5886-4c9e-836a-22195a4df0af",
   "metadata": {},
   "source": [
    "set random seed"
   ]
  },
  {
   "cell_type": "code",
   "execution_count": 237,
   "id": "bbe63939-a36c-440c-ab14-6ad49866673d",
   "metadata": {},
   "outputs": [],
   "source": [
    "np.random.seed(72)"
   ]
  },
  {
   "cell_type": "markdown",
   "id": "50aff023-1e8b-4364-9a3e-94f6c58e4001",
   "metadata": {},
   "source": [
    "activation function and her derivitev"
   ]
  },
  {
   "cell_type": "code",
   "execution_count": 240,
   "id": "97fb7146-fcf6-4817-b846-22f17102017b",
   "metadata": {},
   "outputs": [],
   "source": [
    "relu = lambda x: (x >= 0) * x\n",
    "relu_deriv = lambda x: x >= 0"
   ]
  },
  {
   "cell_type": "code",
   "execution_count": 242,
   "id": "76a8a8b8-489c-45a5-b4c3-e266a2ed5acd",
   "metadata": {},
   "outputs": [],
   "source": [
    "sigmoid = lambda x: 1 / (1 + np.exp(-x))\n",
    "sigmoid_deriv = lambda x: sigmoid(x)*(1 - sigmoid(x))"
   ]
  },
  {
   "cell_type": "markdown",
   "id": "2e5571a8-eded-4c40-a7e5-e19aa343b1b5",
   "metadata": {},
   "source": [
    "# inicialization weights and other variables"
   ]
  },
  {
   "cell_type": "code",
   "execution_count": 245,
   "id": "81509b8e-64d9-4916-89ab-b397e151eec2",
   "metadata": {},
   "outputs": [],
   "source": [
    "hidden_size = 72\n",
    "epochs = 5\n",
    "alpha = 0.005 # step size of gradient descent\n",
    "batch_size = 72\n",
    "num_pixels = 784\n",
    "num_lables = 10\n",
    "weights_0_1 = np.random.random((num_pixels, hidden_size)) * 0.2 - 0.1\n",
    "weights_1_2 = np.random.random((hidden_size, num_lables)) * 0.2 - 0.1"
   ]
  },
  {
   "cell_type": "markdown",
   "id": "3364aeab-f71e-4bac-9dbd-98a34e7c565e",
   "metadata": {},
   "source": [
    "prediction generation function"
   ]
  },
  {
   "cell_type": "code",
   "execution_count": 248,
   "id": "9b05b772-a354-4183-859a-14315ae47143",
   "metadata": {},
   "outputs": [],
   "source": [
    "def get_pred(inp):\n",
    "    layer_hidden = relu(np.dot(inp, weights_0_1))\n",
    "    pred = np.dot(layer_hidden, weights_1_2)\n",
    "    return pred"
   ]
  },
  {
   "cell_type": "markdown",
   "id": "94f935b1-10ad-4e57-bf8f-9c22406ca83c",
   "metadata": {},
   "source": [
    "## lerning and testing part"
   ]
  },
  {
   "cell_type": "markdown",
   "id": "2b2f8e1a-0536-49e8-891a-9bb2e38cb6e4",
   "metadata": {},
   "source": [
    "I used dropout regularization to prevent the model from overfitting"
   ]
  },
  {
   "cell_type": "code",
   "execution_count": 252,
   "id": "94dd4515-cda4-4291-806c-1573f6f7af3e",
   "metadata": {},
   "outputs": [
    {
     "name": "stdout",
     "output_type": "stream",
     "text": [
      "0%\n",
      "17%\n",
      "33%\n",
      "50%\n",
      "66%\n",
      "83%\n",
      "99%\n",
      "\n",
      "Train error: 0.432 Train correct %: 89.263 Test error: 0.256 Test correct %: 89.85 epoch: 1 \n",
      "0%\n",
      "17%\n",
      "33%\n",
      "50%\n",
      "66%\n",
      "83%\n",
      "99%\n",
      "\n",
      "Train error: 0.343 Train correct %: 91.3 Test error: 0.22 Test correct %: 91.9 epoch: 2 \n",
      "0%\n",
      "17%\n",
      "33%\n",
      "50%\n",
      "66%\n",
      "83%\n",
      "99%\n",
      "\n",
      "Train error: 0.324 Train correct %: 92.083 Test error: 0.22 Test correct %: 92.3 epoch: 3 \n",
      "0%\n",
      "17%\n",
      "33%\n",
      "50%\n",
      "66%\n",
      "83%\n",
      "99%\n",
      "\n",
      "Train error: 0.318 Train correct %: 92.425 Test error: 0.221 Test correct %: 92.69 epoch: 4 \n",
      "0%\n",
      "17%\n",
      "33%\n",
      "50%\n",
      "66%\n",
      "83%\n",
      "99%\n",
      "\n",
      "Train error: 0.312 Train correct %: 92.497 Test error: 0.207 Test correct %: 92.66 epoch: 5 \n"
     ]
    }
   ],
   "source": [
    "for epoch in range(epochs):\n",
    "    error, correct_cnt = 0.0, 0\n",
    "    for i in range(len(X_train) // batch_size):\n",
    "        batch_start, batch_end = batch_size * i, batch_size * (i + 1)\n",
    "        layer_0 = X_train[batch_start:batch_end]\n",
    "        layer_1 = relu(np.dot(layer_0, weights_0_1))\n",
    "        # <dropout>\n",
    "        dropout_mask = np.random.randint(2, size=layer_1.shape)\n",
    "        layer_1 *= dropout_mask * 2\n",
    "        # <\\dropout>\n",
    "\n",
    "        layer_2 = np.dot(layer_1, weights_1_2)\n",
    "\n",
    "        error += np.sum((Y_train[batch_start:batch_end] - layer_2) ** 2)\n",
    "\n",
    "        layer_2_delta = (Y_train[batch_start:batch_end] - layer_2)\n",
    "        layer_1_delta = np.dot(layer_2_delta, weights_1_2.T) * relu_deriv(np.dot(layer_0, weights_0_1))\n",
    "\n",
    "        # <dropout>\n",
    "        layer_1_delta *= dropout_mask\n",
    "        # <\\dropout>\n",
    "\n",
    "        weights_1_2 += np.dot(layer_1.T, layer_2_delta) * alpha\n",
    "        weights_0_1 += np.dot(layer_0.T, layer_1_delta) * alpha\n",
    "\n",
    "        if i % (10000 // batch_size) == 0:\n",
    "            print(f'{round(i * 100 / len(X_train) * batch_size)}%')\n",
    "\n",
    "    test_error, test_correct_cnt = 0.0, 0\n",
    "    for i in range(len(X_test)):\n",
    "        res = get_pred(X_test[i:i + 1])\n",
    "        test_error += np.sum((Y_test[i:i + 1] - res) ** 2)\n",
    "        test_correct_cnt += int(np.argmax(res) == np.argmax(Y_test[i:i + 1]))\n",
    "\n",
    "    for i in range(len(X_train)):\n",
    "            res = get_pred(X_train[i:i + 1])\n",
    "            correct_cnt += int(np.argmax(res) == np.argmax(Y_train[i:i + 1]))\n",
    "\n",
    "    print(f\"\\nTrain error: {round(error / len(X_train), 3)} \"\n",
    "          f\"Train correct %: {round(correct_cnt / len(X_train) * 100, 3)} \"\n",
    "          f\"Test error: {round(test_error / len(X_test), 3)} \"\n",
    "          f\"Test correct %: {round(test_correct_cnt / len(X_test) * 100, 3)} \"\n",
    "          f\"epoch: {epoch + 1} \")"
   ]
  },
  {
   "cell_type": "markdown",
   "id": "88046389-0556-4f35-be7c-e75ed8f65fbc",
   "metadata": {},
   "source": [
    "Try to use sigmoid instead relu. And without regularization"
   ]
  },
  {
   "cell_type": "code",
   "execution_count": 257,
   "id": "11409daa-1dbf-498c-a1b0-56839cd3053f",
   "metadata": {},
   "outputs": [
    {
     "name": "stdout",
     "output_type": "stream",
     "text": [
      "0%\n",
      "17%\n",
      "33%\n",
      "50%\n",
      "66%\n",
      "83%\n",
      "99%\n",
      "\n",
      "Train error: 0.197 Train correct %: 91.738 Test error: 0.189 Test correct %: 92.22 epoch: 1 \n",
      "0%\n",
      "17%\n",
      "33%\n",
      "50%\n",
      "66%\n",
      "83%\n",
      "99%\n",
      "\n",
      "Train error: 0.176 Train correct %: 92.585 Test error: 0.175 Test correct %: 92.89 epoch: 2 \n",
      "0%\n",
      "17%\n",
      "33%\n",
      "50%\n",
      "66%\n",
      "83%\n",
      "99%\n",
      "\n",
      "Train error: 0.162 Train correct %: 93.195 Test error: 0.163 Test correct %: 93.29 epoch: 3 \n",
      "0%\n",
      "17%\n",
      "33%\n",
      "50%\n",
      "66%\n",
      "83%\n",
      "99%\n",
      "\n",
      "Train error: 0.152 Train correct %: 93.657 Test error: 0.155 Test correct %: 93.68 epoch: 4 \n",
      "0%\n",
      "17%\n",
      "33%\n",
      "50%\n",
      "66%\n",
      "83%\n",
      "99%\n",
      "\n",
      "Train error: 0.144 Train correct %: 94.017 Test error: 0.148 Test correct %: 93.9 epoch: 5 \n"
     ]
    }
   ],
   "source": [
    "def get_pred(inp):\n",
    "    layer_hidden = sigmoid(np.dot(inp, weights_0_1))\n",
    "    pred = np.dot(layer_hidden, weights_1_2)\n",
    "    return pred\n",
    "\n",
    "for epoch in range(epochs):\n",
    "    error, correct_cnt = 0.0, 0\n",
    "    for i in range(len(X_train) // batch_size):\n",
    "        batch_start, batch_end = batch_size * i, batch_size * (i + 1)\n",
    "        layer_0 = X_train[batch_start:batch_end]\n",
    "        layer_1 = sigmoid(np.dot(layer_0, weights_0_1))\n",
    "        # <dropout>\n",
    "        # dropout_mask = np.random.randint(2, size=layer_1.shape)\n",
    "        # layer_1 *= dropout_mask * 2\n",
    "        # <\\dropout>\n",
    "\n",
    "        layer_2 = np.dot(layer_1, weights_1_2)\n",
    "\n",
    "        error += np.sum((Y_train[batch_start:batch_end] - layer_2) ** 2)\n",
    "\n",
    "        layer_2_delta = (Y_train[batch_start:batch_end] - layer_2)\n",
    "        layer_1_delta = np.dot(layer_2_delta, weights_1_2.T) * sigmoid_deriv(np.dot(layer_0, weights_0_1))\n",
    "\n",
    "        # <dropout>\n",
    "        # layer_1_delta *= dropout_mask\n",
    "        # <\\dropout>\n",
    "\n",
    "        weights_1_2 += np.dot(layer_1.T, layer_2_delta) * alpha\n",
    "        weights_0_1 += np.dot(layer_0.T, layer_1_delta) * alpha\n",
    "\n",
    "        if i % (10000 // batch_size) == 0:\n",
    "            print(f'{round(i * 100 / len(X_train) * batch_size)}%')\n",
    "\n",
    "    test_error, test_correct_cnt = 0.0, 0\n",
    "    for i in range(len(X_test)):\n",
    "        res = get_pred(X_test[i:i + 1])\n",
    "        test_error += np.sum((Y_test[i:i + 1] - res) ** 2)\n",
    "        test_correct_cnt += int(np.argmax(res) == np.argmax(Y_test[i:i + 1]))\n",
    "\n",
    "    for i in range(len(X_train)):\n",
    "            res = get_pred(X_train[i:i + 1])\n",
    "            correct_cnt += int(np.argmax(res) == np.argmax(Y_train[i:i + 1]))\n",
    "\n",
    "    print(f\"\\nTrain error: {round(error / len(X_train), 3)} \"\n",
    "          f\"Train correct %: {round(correct_cnt / len(X_train) * 100, 3)} \"\n",
    "          f\"Test error: {round(test_error / len(X_test), 3)} \"\n",
    "          f\"Test correct %: {round(test_correct_cnt / len(X_test) * 100, 3)} \"\n",
    "          f\"epoch: {epoch + 1} \")"
   ]
  },
  {
   "cell_type": "markdown",
   "id": "5f73b39f-cd34-4ff6-a74b-029bdc277292",
   "metadata": {},
   "source": [
    "# 3. Paint part"
   ]
  },
  {
   "cell_type": "code",
   "execution_count": 260,
   "id": "75e70085-6f5f-4169-9534-b76017de8437",
   "metadata": {},
   "outputs": [],
   "source": [
    "def set_pixel(x, y, size=20, color=100):\n",
    "    global lable_pred_number, canvas_matrix\n",
    "\n",
    "    if canvas_matrix[0, x // 20 + y // 20 * 28] < color / 100:\n",
    "        canvas.create_rectangle(x, y, x + size, y + size, fill=f\"gray{color}\", width=0)\n",
    "        canvas_matrix[0, x // 20 + y // 20 * 28] = color / 100\n",
    "\n",
    "    res = get_pred(canvas_matrix)\n",
    "\n",
    "    lable_pred_number[\"text\"] = f\"Prediction: {res.argmax()}\"\n",
    "    for i in range(10):\n",
    "        bars_digits[i][\"value\"] = res[0, i] * 100"
   ]
  },
  {
   "cell_type": "code",
   "execution_count": 262,
   "id": "e60231ee-41c8-422a-9d5f-d3d85b525530",
   "metadata": {},
   "outputs": [],
   "source": [
    "ind_num = 0\n",
    "\n",
    "def paint_number():\n",
    "    clear_canvas()\n",
    "    global ind_num, lable_current_number\n",
    "    num = X_test[ind_num]\n",
    "    lable_current_number['text'] = f\"Current number: {Y_test[ind_num].argmax()}\"\n",
    "    ind_num += 1\n",
    "    for i in range(784):\n",
    "        if num[i] != 0:\n",
    "            x, y = i * 20 % 560, i * 20 // 560 * 20\n",
    "            set_pixel(x, y, color=round(num[i] * 100))"
   ]
  },
  {
   "cell_type": "code",
   "execution_count": 264,
   "id": "edf3cdce-16f3-4a79-85ab-e5da26a668e5",
   "metadata": {},
   "outputs": [],
   "source": [
    "def draw(event):\n",
    "    for dx in (-10, 0, 10):\n",
    "        for dy in (-10, 0, 10):\n",
    "            x, y = (event.x + dx) // 20 * 20, (event.y + dy) // 20 * 20\n",
    "\n",
    "            if (x < 0 or y < 0 or x > 540 or y > 540):\n",
    "                continue\n",
    "\n",
    "            if dx == 0 and dy == 0:\n",
    "                set_pixel(x, y, 20, 100)\n",
    "            else:\n",
    "                set_pixel(x, y, 20, 50)"
   ]
  },
  {
   "cell_type": "code",
   "execution_count": 266,
   "id": "d0659b2f-3409-4017-83ca-2ce87d6530dc",
   "metadata": {},
   "outputs": [],
   "source": [
    "def clear_canvas():\n",
    "    global canvas_matrix\n",
    "    canvas.delete('all')\n",
    "    canvas['bg'] = 'black'\n",
    "    canvas_matrix = np.zeros((1, 784))\n",
    "    for i in range(10):\n",
    "        bars_digits[i][\"value\"] = 0"
   ]
  },
  {
   "cell_type": "markdown",
   "id": "58ccbffb-349f-4e29-9c2b-a966eaa0cefe",
   "metadata": {},
   "source": [
    "Drawing window settings and starting drawing"
   ]
  },
  {
   "cell_type": "code",
   "execution_count": 269,
   "id": "56d4bf3d-4d6b-4e3d-a7cb-fe6767555a4b",
   "metadata": {},
   "outputs": [],
   "source": [
    "x, y = 0, 0\n",
    "brush_size = 10\n",
    "color = \"white\"\n",
    "canvas_matrix = np.zeros((1, 784))\n",
    "\n",
    "root = Tk()\n",
    "root.title(\"Digit recognaizer\")\n",
    "root.geometry(\"720x720\")\n",
    "root.resizable(0, 0)\n",
    "\n",
    "root.columnconfigure(12, weight=1)\n",
    "root.rowconfigure(2, weight=1)\n",
    "\n",
    "canvas = Canvas(root, bg=\"black\", width=555, height=575)\n",
    "canvas.grid(row=3, column=0, columnspan=6, rowspan=10, padx=5, pady=5)\n",
    "\n",
    "canvas.bind(\"<B1-Motion>\", draw)\n",
    "\n",
    "Button(root, text=\"Clear\", width=12, command=clear_canvas).grid(row=2, column=2)\n",
    "Button(root, text=\"next num\", width=12, command=paint_number).grid(row=2, column=3)\n",
    "lable_current_number = Label(root, text=f\"Current number: {Y_train[ind_num].argmax()}\", font=\"20\")\n",
    "lable_current_number.grid(row=2, column=4)\n",
    "lable_pred_number = Label(root, text=f\"Current number: {-1}\", font=\"20\")\n",
    "lable_pred_number.grid(row=2, column=5)\n",
    "# digits lables\n",
    "bars_digits = []\n",
    "for i in range(10):\n",
    "    bars_digits.append(tkinter.ttk.Progressbar(orient=\"horizontal\", length=100, value=0, mode=\"determinate\"))\n",
    "    Label(root, text=f\"{i}:\", font=\"20\").grid(row=i + 3, column=6)\n",
    "    bars_digits[i].grid(row=i + 3, column=7)\n",
    "\n",
    "root.mainloop()"
   ]
  }
 ],
 "metadata": {
  "kernelspec": {
   "display_name": "Python 3 (ipykernel)",
   "language": "python",
   "name": "python3"
  },
  "language_info": {
   "codemirror_mode": {
    "name": "ipython",
    "version": 3
   },
   "file_extension": ".py",
   "mimetype": "text/x-python",
   "name": "python",
   "nbconvert_exporter": "python",
   "pygments_lexer": "ipython3",
   "version": "3.11.5"
  }
 },
 "nbformat": 4,
 "nbformat_minor": 5
}
